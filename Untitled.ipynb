{
 "cells": [
  {
   "cell_type": "markdown",
   "metadata": {},
   "source": [
    "## 1. Introduction: COFFEE PLACE IN THESSALONIKI\n",
    "\n",
    "In such a large and rich of coffee culture city like Thessaloniki, Greece, it will be competitive to start up coffee business. In this case my contractor is a humble local man who has contacted me to give advises and draw up essential lines of business prediction and back-up plans (but this part we will just discuss about predicting hot spot)."
   ]
  },
  {
   "cell_type": "markdown",
   "metadata": {},
   "source": [
    "## 2. Orientation\n",
    "\n",
    "First of all we need to collect Data of all coffee shops in Thessaloniki including their name, id, location (address, latitude, longitude) then pick the \"hot\" neighborhood where locates most of the venues. In order to asset Data we use FourSquare and apply folium for visualizing a particular neighbor in which that we will observe customer \"traffic\" and predict an appropriate location of new coffee shop in town. In this case you will find its temporary name on the folium map, \"Oriste!\"(Meaning \"Here It Is!\" in Greek)"
   ]
  },
  {
   "cell_type": "markdown",
   "metadata": {},
   "source": [
    "## 3. Execution steps\n",
    "\n",
    "We import all the tools we need."
   ]
  },
  {
   "cell_type": "code",
   "execution_count": 1,
   "metadata": {},
   "outputs": [
    {
     "name": "stdout",
     "output_type": "stream",
     "text": [
      "Requirement already satisfied: folium in /home/jupyterlab/conda/envs/python/lib/python3.6/site-packages (0.5.0)\n",
      "Requirement already satisfied: branca in /home/jupyterlab/conda/envs/python/lib/python3.6/site-packages (from folium) (0.4.1)\n",
      "Requirement already satisfied: jinja2 in /home/jupyterlab/conda/envs/python/lib/python3.6/site-packages (from folium) (2.11.2)\n",
      "Requirement already satisfied: requests in /home/jupyterlab/conda/envs/python/lib/python3.6/site-packages (from folium) (2.24.0)\n",
      "Requirement already satisfied: six in /home/jupyterlab/conda/envs/python/lib/python3.6/site-packages (from folium) (1.15.0)\n",
      "Requirement already satisfied: MarkupSafe>=0.23 in /home/jupyterlab/conda/envs/python/lib/python3.6/site-packages (from jinja2->folium) (1.1.1)\n",
      "Requirement already satisfied: idna<3,>=2.5 in /home/jupyterlab/conda/envs/python/lib/python3.6/site-packages (from requests->folium) (2.10)\n",
      "Requirement already satisfied: certifi>=2017.4.17 in /home/jupyterlab/conda/envs/python/lib/python3.6/site-packages (from requests->folium) (2020.6.20)\n",
      "Requirement already satisfied: urllib3!=1.25.0,!=1.25.1,<1.26,>=1.21.1 in /home/jupyterlab/conda/envs/python/lib/python3.6/site-packages (from requests->folium) (1.25.11)\n",
      "Requirement already satisfied: chardet<4,>=3.0.2 in /home/jupyterlab/conda/envs/python/lib/python3.6/site-packages (from requests->folium) (3.0.4)\n"
     ]
    }
   ],
   "source": [
    "import requests # library to handle requests\n",
    "import pandas as pd # library for data analysis\n",
    "import numpy as np\n",
    "!pip install folium\n",
    "import folium"
   ]
  },
  {
   "cell_type": "markdown",
   "metadata": {},
   "source": [
    "Apply your credential ID n Foursquare"
   ]
  },
  {
   "cell_type": "code",
   "execution_count": 6,
   "metadata": {},
   "outputs": [
    {
     "name": "stdout",
     "output_type": "stream",
     "text": [
      "Your credentails:\n",
      "CLIENT_ID: 4XV4MUEEX00QGF55PBPI4VCIUN3YTWEHKHQGL0T11QXGE2NA\n",
      "CLIENT_SECRET:APIDDD1AYMIJ4CVDNVYNJSZRQWZ4VEAHW2WEBDQ4VX31NQ4Q\n"
     ]
    }
   ],
   "source": [
    "CLIENT_ID = '4XV4MUEEX00QGF55PBPI4VCIUN3YTWEHKHQGL0T11QXGE2NA'\n",
    "CLIENT_SECRET = 'APIDDD1AYMIJ4CVDNVYNJSZRQWZ4VEAHW2WEBDQ4VX31NQ4Q'\n",
    "VERSION = 20180604\n",
    "LIMIT = 40\n",
    "print ('Your credentails:')\n",
    "print('CLIENT_ID: ' + CLIENT_ID)\n",
    "print('CLIENT_SECRET:'+ CLIENT_SECRET)"
   ]
  },
  {
   "cell_type": "markdown",
   "metadata": {},
   "source": [
    "Get requests near Thessaloniki city"
   ]
  },
  {
   "cell_type": "code",
   "execution_count": 12,
   "metadata": {},
   "outputs": [],
   "source": [
    "import requests\n",
    "\n",
    "request_parameters = {\n",
    "    \"client_id\": CLIENT_ID,\n",
    "    \"client_secret\": CLIENT_SECRET,\n",
    "    \"v\": '20180605',\n",
    "    \"section\": \"coffee\",\n",
    "    \"near\": \"Thessaloniki\",\n",
    "    \"radius\": 1000,\n",
    "    \"limit\": 50}\n",
    "\n",
    "data = requests.get(\"https://api.foursquare.com/v2/venues/explore\", params=request_parameters)"
   ]
  },
  {
   "cell_type": "markdown",
   "metadata": {},
   "source": [
    "Transform data into json then request geocode"
   ]
  },
  {
   "cell_type": "code",
   "execution_count": 18,
   "metadata": {},
   "outputs": [
    {
     "data": {
      "text/plain": [
       "dict_keys(['suggestedFilters', 'geocode', 'headerLocation', 'headerFullLocation', 'headerLocationGranularity', 'query', 'totalResults', 'suggestedBounds', 'groups'])"
      ]
     },
     "execution_count": 18,
     "metadata": {},
     "output_type": "execute_result"
    }
   ],
   "source": [
    "d = data.json()[\"response\"]\n",
    "d.keys()"
   ]
  },
  {
   "cell_type": "code",
   "execution_count": 20,
   "metadata": {},
   "outputs": [
    {
     "data": {
      "text/plain": [
       "('city', 'Thessaloníki', 'Thessaloníki')"
      ]
     },
     "execution_count": 20,
     "metadata": {},
     "output_type": "execute_result"
    }
   ],
   "source": [
    "d[\"headerLocationGranularity\"], d[\"headerLocation\"], d[\"headerFullLocation\"]\n"
   ]
  },
  {
   "cell_type": "code",
   "execution_count": 22,
   "metadata": {},
   "outputs": [
    {
     "data": {
      "text/plain": [
       "({'ne': {'lat': 40.65073224977761, 'lng': 22.941163388173987},\n",
       "  'sw': {'lat': 40.635032627617214, 'lng': 22.918850791039336}},\n",
       " 39)"
      ]
     },
     "execution_count": 22,
     "metadata": {},
     "output_type": "execute_result"
    }
   ],
   "source": [
    "d[\"suggestedBounds\"], d[\"totalResults\"]"
   ]
  },
  {
   "cell_type": "code",
   "execution_count": 23,
   "metadata": {},
   "outputs": [
    {
     "data": {
      "text/plain": [
       "{'what': '',\n",
       " 'where': 'thessaloniki',\n",
       " 'center': {'lat': 40.64361, 'lng': 22.93086},\n",
       " 'displayString': 'Thessaloníki, Central Macedonia, Greece',\n",
       " 'cc': 'GR',\n",
       " 'geometry': {'bounds': {'ne': {'lat': 40.71540595456036,\n",
       "    'lng': 23.023440674362327},\n",
       "   'sw': {'lat': 40.52794000897531, 'lng': 22.848796876532834}}},\n",
       " 'slug': 'thessaloniki-greece',\n",
       " 'longId': '72057594038662013'}"
      ]
     },
     "execution_count": 23,
     "metadata": {},
     "output_type": "execute_result"
    }
   ],
   "source": [
    "d[\"geocode\"]"
   ]
  },
  {
   "cell_type": "markdown",
   "metadata": {},
   "source": [
    "We start creating group including information which is recommended."
   ]
  },
  {
   "cell_type": "code",
   "execution_count": 25,
   "metadata": {},
   "outputs": [
    {
     "data": {
      "text/plain": [
       "dict_keys(['type', 'name', 'items'])"
      ]
     },
     "execution_count": 25,
     "metadata": {},
     "output_type": "execute_result"
    }
   ],
   "source": [
    "d[\"groups\"][0].keys()"
   ]
  },
  {
   "cell_type": "code",
   "execution_count": 26,
   "metadata": {},
   "outputs": [
    {
     "data": {
      "text/plain": [
       "('Recommended Places', 'recommended')"
      ]
     },
     "execution_count": 26,
     "metadata": {},
     "output_type": "execute_result"
    }
   ],
   "source": [
    "d[\"groups\"][0][\"type\"], d[\"groups\"][0][\"name\"]"
   ]
  },
  {
   "cell_type": "markdown",
   "metadata": {},
   "source": [
    "Creating items of objects coffee shop and their attributes - id, address, name, etc"
   ]
  },
  {
   "cell_type": "code",
   "execution_count": 28,
   "metadata": {},
   "outputs": [
    {
     "name": "stdout",
     "output_type": "stream",
     "text": [
      "number of items: 39\n"
     ]
    },
    {
     "data": {
      "text/plain": [
       "{'reasons': {'count': 0,\n",
       "  'items': [{'summary': 'This spot is popular',\n",
       "    'type': 'general',\n",
       "    'reasonName': 'globalInteractionReason'}]},\n",
       " 'venue': {'id': '4f8cf843e4b04bd7c54fe648',\n",
       "  'name': 'Εργαστήρι της Γεύσης',\n",
       "  'location': {'address': 'Π.Σ. Σταθμού',\n",
       "   'lat': 40.640941349567335,\n",
       "   'lng': 22.928243694085044,\n",
       "   'labeledLatLngs': [{'label': 'display',\n",
       "     'lat': 40.640941349567335,\n",
       "     'lng': 22.928243694085044}],\n",
       "   'postalCode': '546 27',\n",
       "   'cc': 'GR',\n",
       "   'city': 'Θεσσαλονίκη',\n",
       "   'state': 'Θεσσαλονίκη',\n",
       "   'country': 'Ελλάδα',\n",
       "   'formattedAddress': ['Π.Σ. Σταθμού',\n",
       "    '546 27 Θεσσαλονίκη, Θεσσαλονίκη',\n",
       "    'Ελλάδα']},\n",
       "  'categories': [{'id': '53d6c1b0e4b02351e88a83e8',\n",
       "    'name': 'Bougatsa Shop',\n",
       "    'pluralName': 'Bougatsa Shops',\n",
       "    'shortName': 'Bougatsa Shops',\n",
       "    'icon': {'prefix': 'https://ss3.4sqi.net/img/categories_v2/food/snacks_',\n",
       "     'suffix': '.png'},\n",
       "    'primary': True}],\n",
       "  'photos': {'count': 0, 'groups': []}},\n",
       " 'referralId': 'e-5-4f8cf843e4b04bd7c54fe648-0'}"
      ]
     },
     "execution_count": 28,
     "metadata": {},
     "output_type": "execute_result"
    }
   ],
   "source": [
    "items = d[\"groups\"][0][\"items\"]\n",
    "print(\"number of items: %i\" % len(items))\n",
    "items[0]"
   ]
  },
  {
   "cell_type": "code",
   "execution_count": 30,
   "metadata": {},
   "outputs": [
    {
     "name": "stdout",
     "output_type": "stream",
     "text": [
      "{'address': 'Π.Σ. Σταθμού', 'lat': 40.640941349567335, 'lng': 22.928243694085044, 'labeledLatLngs': [{'label': 'display', 'lat': 40.640941349567335, 'lng': 22.928243694085044}], 'postalCode': '546 27', 'cc': 'GR', 'city': 'Θεσσαλονίκη', 'state': 'Θεσσαλονίκη', 'country': 'Ελλάδα', 'formattedAddress': ['Π.Σ. Σταθμού', '546 27 Θεσσαλονίκη, Θεσσαλονίκη', 'Ελλάδα']}\n",
      "{'lat': 40.64036571242544, 'lng': 22.933995822487688, 'labeledLatLngs': [{'label': 'display', 'lat': 40.64036571242544, 'lng': 22.933995822487688}], 'cc': 'GR', 'country': 'Ελλάδα', 'formattedAddress': ['Ελλάδα']}\n",
      "{'address': 'Λαγκαδά', 'lat': 40.642369604339585, 'lng': 22.934978090042275, 'labeledLatLngs': [{'label': 'display', 'lat': 40.642369604339585, 'lng': 22.934978090042275}], 'cc': 'GR', 'city': 'Θεσσαλονίκη', 'state': 'Θεσσαλονίκη', 'country': 'Ελλάδα', 'formattedAddress': ['Λαγκαδά', 'Θεσσαλονίκη, Θεσσαλονίκη', 'Ελλάδα']}\n",
      "{'address': '26ης Οκτωβριου 28', 'crossStreet': 'Αναγεννήσεως', 'lat': 40.639664583213325, 'lng': 22.931559106916918, 'labeledLatLngs': [{'label': 'display', 'lat': 40.639664583213325, 'lng': 22.931559106916918}], 'cc': 'GR', 'city': 'Thessalonika', 'country': 'Ελλάδα', 'formattedAddress': ['26ης Οκτωβριου 28 (Αναγεννήσεως)', 'Thessalonika', 'Ελλάδα']}\n",
      "{'address': 'Φράγκων 2-4', 'lat': 40.63821775903948, 'lng': 22.934232055055453, 'labeledLatLngs': [{'label': 'display', 'lat': 40.63821775903948, 'lng': 22.934232055055453}], 'postalCode': '546 26', 'cc': 'GR', 'city': 'Θεσσαλονίκη', 'state': 'Θεσσαλονίκη', 'country': 'Ελλάδα', 'formattedAddress': ['Φράγκων 2-4', '546 26 Θεσσαλονίκη, Θεσσαλονίκη', 'Ελλάδα']}\n",
      "{'address': 'Σαλαμίνος 8', 'crossStreet': 'Λυκούργου 3', 'lat': 40.635768430179496, 'lng': 22.93572908518955, 'labeledLatLngs': [{'label': 'display', 'lat': 40.635768430179496, 'lng': 22.93572908518955}], 'postalCode': '546 25', 'cc': 'GR', 'city': 'Θεσσαλονίκη', 'state': 'Θεσσαλονίκη', 'country': 'Ελλάδα', 'formattedAddress': ['Σαλαμίνος 8 (Λυκούργου 3)', '546 25 Θεσσαλονίκη, Θεσσαλονίκη', 'Ελλάδα']}\n",
      "{'lat': 40.63840987763911, 'lng': 22.935703927591877, 'labeledLatLngs': [{'label': 'display', 'lat': 40.63840987763911, 'lng': 22.935703927591877}], 'postalCode': '546 26', 'cc': 'GR', 'city': 'Θεσσαλονίκη', 'state': 'Θεσσαλονίκη', 'country': 'Ελλάδα', 'formattedAddress': ['546 26 Θεσσαλονίκη, Θεσσαλονίκη', 'Ελλάδα']}\n",
      "{'address': '3, Salaminos str.', 'crossStreet': 'Karatassou', 'lat': 40.63574624680632, 'lng': 22.93547939241569, 'labeledLatLngs': [{'label': 'display', 'lat': 40.63574624680632, 'lng': 22.93547939241569}], 'postalCode': '546 26', 'cc': 'GR', 'city': 'Θεσσαλονίκη', 'state': 'Θεσσαλονίκη', 'country': 'Ελλάδα', 'formattedAddress': ['3, Salaminos str. (Karatassou)', '546 26 Θεσσαλονίκη, Θεσσαλονίκη', 'Ελλάδα']}\n",
      "{'address': 'Δωδεκανήσου 17', 'crossStreet': 'Φράγκων', 'lat': 40.640104, 'lng': 22.933211, 'labeledLatLngs': [{'label': 'display', 'lat': 40.640104, 'lng': 22.933211}], 'postalCode': '546 26', 'cc': 'GR', 'city': 'Θεσσαλονίκη', 'state': 'Θεσσαλονίκη', 'country': 'Ελλάδα', 'formattedAddress': ['Δωδεκανήσου 17 (Φράγκων)', '546 26 Θεσσαλονίκη, Θεσσαλονίκη', 'Ελλάδα']}\n",
      "{'address': 'Frangon str', 'crossStreet': 'btwn Bradouna and Moskof str', 'lat': 40.63864992338333, 'lng': 22.934979151781555, 'labeledLatLngs': [{'label': 'display', 'lat': 40.63864992338333, 'lng': 22.934979151781555}], 'postalCode': '546 26', 'cc': 'GR', 'city': 'Θεσσαλονίκη', 'state': 'Θεσσαλονίκη', 'country': 'Ελλάδα', 'formattedAddress': ['Frangon str (btwn Bradouna and Moskof str)', '546 26 Θεσσαλονίκη, Θεσσαλονίκη', 'Ελλάδα']}\n",
      "{'address': 'Πολυτεχνείου 17', 'lat': 40.63757350954775, 'lng': 22.934311101247218, 'labeledLatLngs': [{'label': 'display', 'lat': 40.63757350954775, 'lng': 22.934311101247218}], 'cc': 'GR', 'city': 'Θεσσαλονίκη', 'state': 'Θεσσαλονίκη', 'country': 'Ελλάδα', 'formattedAddress': ['Πολυτεχνείου 17', 'Θεσσαλονίκη, Θεσσαλονίκη', 'Ελλάδα']}\n",
      "{'lat': 40.64603267310816, 'lng': 22.920536879488584, 'labeledLatLngs': [{'label': 'display', 'lat': 40.64603267310816, 'lng': 22.920536879488584}], 'cc': 'GR', 'country': 'Ελλάδα', 'formattedAddress': ['Ελλάδα']}\n",
      "{'address': 'Εγνατία29', 'crossStreet': 'Αντιγονιδών', 'lat': 40.6388620739888, 'lng': 22.938494478634716, 'labeledLatLngs': [{'label': 'display', 'lat': 40.6388620739888, 'lng': 22.938494478634716}], 'postalCode': '546 30', 'cc': 'GR', 'city': 'Θεσσαλονίκη', 'state': 'Θεσσαλονίκη', 'country': 'Ελλάδα', 'formattedAddress': ['Εγνατία29 (Αντιγονιδών)', '546 30 Θεσσαλονίκη, Θεσσαλονίκη', 'Ελλάδα']}\n",
      "{'address': 'Βηλαρά 7', 'crossStreet': 'Βαλαωρίτου', 'lat': 40.63767459638246, 'lng': 22.93934839943559, 'labeledLatLngs': [{'label': 'display', 'lat': 40.63767459638246, 'lng': 22.93934839943559}], 'postalCode': '546 25', 'cc': 'GR', 'city': 'Θεσσαλονίκη', 'state': 'Θεσσαλονίκη', 'country': 'Ελλάδα', 'formattedAddress': ['Βηλαρά 7 (Βαλαωρίτου)', '546 25 Θεσσαλονίκη, Θεσσαλονίκη', 'Ελλάδα']}\n",
      "{'address': 'Αγίων Πάντων 69', 'lat': 40.64840509004396, 'lng': 22.930304652326917, 'labeledLatLngs': [{'label': 'display', 'lat': 40.64840509004396, 'lng': 22.930304652326917}], 'postalCode': '546 29', 'cc': 'GR', 'city': 'Θεσσαλονίκη', 'state': 'Θεσσαλονίκη', 'country': 'Ελλάδα', 'formattedAddress': ['Αγίων Πάντων 69', '546 29 Θεσσαλονίκη, Θεσσαλονίκη', 'Ελλάδα']}\n",
      "{'lat': 40.640254079697634, 'lng': 22.94014917921332, 'labeledLatLngs': [{'label': 'display', 'lat': 40.640254079697634, 'lng': 22.94014917921332}], 'cc': 'GR', 'country': 'Ελλάδα', 'formattedAddress': ['Ελλάδα']}\n",
      "{'lat': 40.64001221742726, 'lng': 22.932550801798392, 'labeledLatLngs': [{'label': 'display', 'lat': 40.64001221742726, 'lng': 22.932550801798392}], 'cc': 'GR', 'country': 'Ελλάδα', 'formattedAddress': ['Ελλάδα']}\n",
      "{'address': 'Mοναστηρίου 9', 'lat': 40.641275766138406, 'lng': 22.933640450717032, 'labeledLatLngs': [{'label': 'display', 'lat': 40.641275766138406, 'lng': 22.933640450717032}], 'postalCode': '546 29', 'cc': 'GR', 'city': 'Θεσσαλονίκη', 'state': 'Θεσσαλονίκη', 'country': 'Ελλάδα', 'formattedAddress': ['Mοναστηρίου 9', '546 29 Θεσσαλονίκη, Θεσσαλονίκη', 'Ελλάδα']}\n",
      "{'address': 'Αγίων Πάντων 46', 'crossStreet': 'Δημητρίου Μιχαλά', 'lat': 40.648156933133606, 'lng': 22.92916288928764, 'labeledLatLngs': [{'label': 'display', 'lat': 40.648156933133606, 'lng': 22.92916288928764}], 'postalCode': '561 23', 'cc': 'GR', 'city': 'Θεσσαλονίκη', 'state': 'Θεσσαλονίκη', 'country': 'Ελλάδα', 'formattedAddress': ['Αγίων Πάντων 46 (Δημητρίου Μιχαλά)', '561 23 Θεσσαλονίκη, Θεσσαλονίκη', 'Ελλάδα']}\n",
      "{'address': 'Βαλαωρίτου 20', 'crossStreet': 'Τύπου', 'lat': 40.63813797710003, 'lng': 22.93857651947887, 'labeledLatLngs': [{'label': 'display', 'lat': 40.63813797710003, 'lng': 22.93857651947887}], 'cc': 'GR', 'city': 'Θεσσαλονίκη', 'state': 'Θεσσαλονίκη', 'country': 'Ελλάδα', 'formattedAddress': ['Βαλαωρίτου 20 (Τύπου)', 'Θεσσαλονίκη, Θεσσαλονίκη', 'Ελλάδα']}\n",
      "{'address': 'Μοναστηρίου 26', 'crossStreet': 'Ν.Σ. Σταθμός', 'lat': 40.64466683163108, 'lng': 22.928521177576016, 'labeledLatLngs': [{'label': 'display', 'lat': 40.64466683163108, 'lng': 22.928521177576016}], 'postalCode': '546 29', 'cc': 'GR', 'city': 'Θεσσαλονίκη', 'state': 'Θεσσαλονίκη', 'country': 'Ελλάδα', 'formattedAddress': ['Μοναστηρίου 26 (Ν.Σ. Σταθμός)', '546 29 Θεσσαλονίκη, Θεσσαλονίκη', 'Ελλάδα']}\n",
      "{'address': 'Γιαννιτσών 94', 'lat': 40.647209429034405, 'lng': 22.920441189682002, 'labeledLatLngs': [{'label': 'display', 'lat': 40.647209429034405, 'lng': 22.920441189682002}], 'postalCode': '546 27', 'cc': 'GR', 'city': 'Θεσσαλονίκη', 'state': 'Θεσσαλονίκη', 'country': 'Ελλάδα', 'formattedAddress': ['Γιαννιτσών 94', '546 27 Θεσσαλονίκη, Θεσσαλονίκη', 'Ελλάδα']}\n",
      "{'address': 'Σαλαμίνος 10', 'lat': 40.63576102691674, 'lng': 22.935827913234743, 'labeledLatLngs': [{'label': 'display', 'lat': 40.63576102691674, 'lng': 22.935827913234743}], 'postalCode': '546 26', 'cc': 'GR', 'city': 'Θεσσαλονίκη', 'state': 'Θεσσαλονίκη', 'country': 'Ελλάδα', 'formattedAddress': ['Σαλαμίνος 10', '546 26 Θεσσαλονίκη, Θεσσαλονίκη', 'Ελλάδα']}\n",
      "{'lat': 40.644447, 'lng': 22.929234, 'labeledLatLngs': [{'label': 'display', 'lat': 40.644447, 'lng': 22.929234}], 'postalCode': '546 27', 'cc': 'GR', 'city': 'Θεσσαλονίκη', 'state': 'Θεσσαλονίκη', 'country': 'Ελλάδα', 'formattedAddress': ['546 27 Θεσσαλονίκη, Θεσσαλονίκη', 'Ελλάδα']}\n",
      "{'lat': 40.640888, 'lng': 22.928682, 'labeledLatLngs': [{'label': 'display', 'lat': 40.640888, 'lng': 22.928682}], 'postalCode': '546 27', 'cc': 'GR', 'city': 'Θεσσαλονίκη', 'state': 'Θεσσαλονίκη', 'country': 'Ελλάδα', 'formattedAddress': ['546 27 Θεσσαλονίκη, Θεσσαλονίκη', 'Ελλάδα']}\n",
      "{'lat': 40.645077704103116, 'lng': 22.926292853425338, 'labeledLatLngs': [{'label': 'display', 'lat': 40.645077704103116, 'lng': 22.926292853425338}], 'cc': 'GR', 'country': 'Ελλάδα', 'formattedAddress': ['Ελλάδα']}\n",
      "{'lat': 40.6469814803752, 'lng': 22.935869192720556, 'labeledLatLngs': [{'label': 'display', 'lat': 40.6469814803752, 'lng': 22.935869192720556}], 'cc': 'GR', 'country': 'Ελλάδα', 'formattedAddress': ['Ελλάδα']}\n",
      "{'address': 'Φράγκων', 'lat': 40.638424, 'lng': 22.935581, 'labeledLatLngs': [{'label': 'display', 'lat': 40.638424, 'lng': 22.935581}], 'postalCode': '546 26', 'cc': 'GR', 'city': 'Θεσσαλονίκη', 'state': 'Θεσσαλονίκη', 'country': 'Ελλάδα', 'formattedAddress': ['Φράγκων', '546 26 Θεσσαλονίκη, Θεσσαλονίκη', 'Ελλάδα']}\n",
      "{'lat': 40.637684, 'lng': 22.934431, 'labeledLatLngs': [{'label': 'display', 'lat': 40.637684, 'lng': 22.934431}], 'postalCode': '546 26', 'cc': 'GR', 'city': 'Θεσσαλονίκη', 'state': 'Θεσσαλονίκη', 'country': 'Ελλάδα', 'formattedAddress': ['546 26 Θεσσαλονίκη, Θεσσαλονίκη', 'Ελλάδα']}\n",
      "{'address': 'Πολυτεχνείου', 'lat': 40.63758669304457, 'lng': 22.934372134498275, 'labeledLatLngs': [{'label': 'display', 'lat': 40.63758669304457, 'lng': 22.934372134498275}], 'cc': 'GR', 'city': 'Θεσσαλονίκη', 'state': 'Θεσσαλονίκη', 'country': 'Ελλάδα', 'formattedAddress': ['Πολυτεχνείου', 'Θεσσαλονίκη, Θεσσαλονίκη', 'Ελλάδα']}\n",
      "{'lat': 40.6500186305885, 'lng': 22.93744644193629, 'labeledLatLngs': [{'label': 'display', 'lat': 40.6500186305885, 'lng': 22.93744644193629}], 'cc': 'GR', 'country': 'Ελλάδα', 'formattedAddress': ['Ελλάδα']}\n",
      "{'lat': 40.638258, 'lng': 22.93634, 'labeledLatLngs': [{'label': 'display', 'lat': 40.638258, 'lng': 22.93634}], 'postalCode': '546 26', 'cc': 'GR', 'city': 'Θεσσαλονίκη', 'state': 'Θεσσαλονίκη', 'country': 'Ελλάδα', 'formattedAddress': ['546 26 Θεσσαλονίκη, Θεσσαλονίκη', 'Ελλάδα']}\n",
      "{'address': 'Ολυμπίου Διαμαντή 16', 'lat': 40.6375117534005, 'lng': 22.935467756587425, 'labeledLatLngs': [{'label': 'display', 'lat': 40.6375117534005, 'lng': 22.935467756587425}], 'postalCode': '546 26', 'cc': 'GR', 'city': 'Θεσσαλονίκη', 'state': 'Θεσσαλονίκη', 'country': 'Ελλάδα', 'formattedAddress': ['Ολυμπίου Διαμαντή 16', '546 26 Θεσσαλονίκη, Θεσσαλονίκη', 'Ελλάδα']}\n",
      "{'address': 'Αμπελώνων 43', 'crossStreet': 'Ελευθερίας', 'lat': 40.64988829833071, 'lng': 22.925213892163807, 'labeledLatLngs': [{'label': 'display', 'lat': 40.64988829833071, 'lng': 22.925213892163807}], 'cc': 'GR', 'city': 'Αμπελόκηποι', 'state': 'Θεσσαλονίκη', 'country': 'Ελλάδα', 'formattedAddress': ['Αμπελώνων 43 (Ελευθερίας)', 'Αμπελόκηποι, Θεσσαλονίκη', 'Ελλάδα']}\n",
      "{'lat': 40.637257, 'lng': 22.936475, 'labeledLatLngs': [{'label': 'display', 'lat': 40.637257, 'lng': 22.936475}], 'postalCode': '546 26', 'cc': 'GR', 'city': 'Θεσσαλονίκη', 'state': 'Θεσσαλονίκη', 'country': 'Ελλάδα', 'formattedAddress': ['546 26 Θεσσαλονίκη, Θεσσαλονίκη', 'Ελλάδα']}\n",
      "{'lat': 40.646435, 'lng': 22.920305, 'labeledLatLngs': [{'label': 'display', 'lat': 40.646435, 'lng': 22.920305}], 'postalCode': '546 27', 'cc': 'GR', 'city': 'Θεσσαλονίκη', 'state': 'Θεσσαλονίκη', 'country': 'Ελλάδα', 'formattedAddress': ['546 27 Θεσσαλονίκη, Θεσσαλονίκη', 'Ελλάδα']}\n",
      "{'lat': 40.645885, 'lng': 22.919865, 'labeledLatLngs': [{'label': 'display', 'lat': 40.645885, 'lng': 22.919865}], 'cc': 'GR', 'country': 'Ελλάδα', 'formattedAddress': ['Ελλάδα']}\n",
      "{'lat': 40.637007, 'lng': 22.938815, 'labeledLatLngs': [{'label': 'display', 'lat': 40.637007, 'lng': 22.938815}], 'postalCode': '546 25', 'cc': 'GR', 'city': 'Θεσσαλονίκη', 'state': 'Θεσσαλονίκη', 'country': 'Ελλάδα', 'formattedAddress': ['546 25 Θεσσαλονίκη, Θεσσαλονίκη', 'Ελλάδα']}\n",
      "{'address': 'Γιαννιτσών 61', 'crossStreet': 'στο City Gate', 'lat': 40.64577451210042, 'lng': 22.92006779815583, 'labeledLatLngs': [{'label': 'display', 'lat': 40.64577451210042, 'lng': 22.92006779815583}], 'postalCode': '546 27', 'cc': 'GR', 'city': 'Θεσσαλονίκη', 'state': 'Θεσσαλονίκη', 'country': 'Ελλάδα', 'formattedAddress': ['Γιαννιτσών 61 (στο City Gate)', '546 27 Θεσσαλονίκη, Θεσσαλονίκη', 'Ελλάδα']}\n",
      "found 25 cafes\n"
     ]
    },
    {
     "data": {
      "text/html": [
       "<div>\n",
       "<style scoped>\n",
       "    .dataframe tbody tr th:only-of-type {\n",
       "        vertical-align: middle;\n",
       "    }\n",
       "\n",
       "    .dataframe tbody tr th {\n",
       "        vertical-align: top;\n",
       "    }\n",
       "\n",
       "    .dataframe thead th {\n",
       "        text-align: right;\n",
       "    }\n",
       "</style>\n",
       "<table border=\"1\" class=\"dataframe\">\n",
       "  <thead>\n",
       "    <tr style=\"text-align: right;\">\n",
       "      <th></th>\n",
       "      <th>uid</th>\n",
       "      <th>name</th>\n",
       "      <th>shortname</th>\n",
       "      <th>address</th>\n",
       "      <th>postalcode</th>\n",
       "      <th>lat</th>\n",
       "      <th>lng</th>\n",
       "    </tr>\n",
       "  </thead>\n",
       "  <tbody>\n",
       "    <tr>\n",
       "      <th>0</th>\n",
       "      <td>4f8cf843e4b04bd7c54fe648</td>\n",
       "      <td>Εργαστήρι της Γεύσης</td>\n",
       "      <td>Bougatsa Shops</td>\n",
       "      <td></td>\n",
       "      <td>546 27</td>\n",
       "      <td>40.640941</td>\n",
       "      <td>22.928244</td>\n",
       "    </tr>\n",
       "    <tr>\n",
       "      <th>1</th>\n",
       "      <td>56a2a05c498ed9b2b1614106</td>\n",
       "      <td>Μυστίλλη</td>\n",
       "      <td>Restaurant</td>\n",
       "      <td></td>\n",
       "      <td>546 26</td>\n",
       "      <td>40.638218</td>\n",
       "      <td>22.934232</td>\n",
       "    </tr>\n",
       "    <tr>\n",
       "      <th>2</th>\n",
       "      <td>51694cb2e4b07d599519a366</td>\n",
       "      <td>The Blue Cup (The Blue Cup &amp; Speakeasy)</td>\n",
       "      <td>Cocktail</td>\n",
       "      <td></td>\n",
       "      <td>546 25</td>\n",
       "      <td>40.635768</td>\n",
       "      <td>22.935729</td>\n",
       "    </tr>\n",
       "    <tr>\n",
       "      <th>3</th>\n",
       "      <td>5232ca05498edab594520a6f</td>\n",
       "      <td>Coffee INC</td>\n",
       "      <td>Café</td>\n",
       "      <td></td>\n",
       "      <td>546 26</td>\n",
       "      <td>40.638410</td>\n",
       "      <td>22.935704</td>\n",
       "    </tr>\n",
       "    <tr>\n",
       "      <th>4</th>\n",
       "      <td>4b6de067f964a520f1972ce3</td>\n",
       "      <td>Mediterranean Palace Hotel</td>\n",
       "      <td>Hotel</td>\n",
       "      <td></td>\n",
       "      <td>546 26</td>\n",
       "      <td>40.635746</td>\n",
       "      <td>22.935479</td>\n",
       "    </tr>\n",
       "  </tbody>\n",
       "</table>\n",
       "</div>"
      ],
      "text/plain": [
       "                        uid                                     name  \\\n",
       "0  4f8cf843e4b04bd7c54fe648                     Εργαστήρι της Γεύσης   \n",
       "1  56a2a05c498ed9b2b1614106                                 Μυστίλλη   \n",
       "2  51694cb2e4b07d599519a366  The Blue Cup (The Blue Cup & Speakeasy)   \n",
       "3  5232ca05498edab594520a6f                               Coffee INC   \n",
       "4  4b6de067f964a520f1972ce3               Mediterranean Palace Hotel   \n",
       "\n",
       "        shortname address postalcode        lat        lng  \n",
       "0  Bougatsa Shops             546 27  40.640941  22.928244  \n",
       "1      Restaurant             546 26  40.638218  22.934232  \n",
       "2        Cocktail             546 25  40.635768  22.935729  \n",
       "3            Café             546 26  40.638410  22.935704  \n",
       "4           Hotel             546 26  40.635746  22.935479  "
      ]
     },
     "execution_count": 30,
     "metadata": {},
     "output_type": "execute_result"
    }
   ],
   "source": [
    "df_raw = []\n",
    "for item in items:\n",
    "    venue = item[\"venue\"]\n",
    "    categories, uid, name, location = venue[\"categories\"], venue[\"id\"], venue[\"name\"], venue[\"location\"]\n",
    "    print(location)\n",
    "    assert len(categories) == 1\n",
    "    shortname = categories[0][\"shortName\"]\n",
    "    address =  ''\n",
    "    if hasattr(location, 'address'):\n",
    "      address = location['address']\n",
    "    if not \"postalCode\" in location:\n",
    "        continue\n",
    "    postalcode = location[\"postalCode\"]\n",
    "    lat = location[\"lat\"]\n",
    "    lng = location[\"lng\"]\n",
    "    datarow = (uid, name, shortname, address, postalcode, lat, lng)\n",
    "    df_raw.append(datarow)\n",
    "df = pd.DataFrame(df_raw, columns=[\"uid\", \"name\", \"shortname\", \"address\", \"postalcode\", \"lat\", \"lng\"])\n",
    "print(\"found %i cafes\" % len(df))\n",
    "df.head()"
   ]
  },
  {
   "cell_type": "code",
   "execution_count": 32,
   "metadata": {},
   "outputs": [
    {
     "data": {
      "text/plain": [
       "{'lat': 40.64361, 'lng': 22.93086}"
      ]
     },
     "execution_count": 32,
     "metadata": {},
     "output_type": "execute_result"
    }
   ],
   "source": [
    "Thessaloniki_center = d[\"geocode\"][\"center\"]\n",
    "Thessaloniki_center"
   ]
  },
  {
   "cell_type": "code",
   "execution_count": 34,
   "metadata": {
    "collapsed": true,
    "jupyter": {
     "outputs_hidden": true
    }
   },
   "outputs": [
    {
     "data": {
      "text/html": [
       "<div style=\"width:100%;\"><div style=\"position:relative;width:100%;height:0;padding-bottom:60%;\"><span style=\"color:#565656\">Make this Notebook Trusted to load map: File -> Trust Notebook</span><iframe src=\"about:blank\" style=\"position:absolute;width:100%;height:100%;left:0;top:0;border:none !important;\" data-html=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 onload=\"this.contentDocument.open();this.contentDocument.write(atob(this.getAttribute('data-html')));this.contentDocument.close();\" allowfullscreen webkitallowfullscreen mozallowfullscreen></iframe></div></div>"
      ],
      "text/plain": [
       "<folium.folium.Map at 0x7f0a256ebdd8>"
      ]
     },
     "execution_count": 34,
     "metadata": {},
     "output_type": "execute_result"
    }
   ],
   "source": [
    "from folium import plugins\n",
    "\n",
    "\n",
    "map_Thessaloniki = folium.Map(location=[40.64361, 22.93086], zoom_start=14)\n",
    "\n",
    "def add_markers(df):\n",
    "    for (j, row) in df.iterrows():\n",
    "        label = folium.Popup(row[\"name\"], parse_html=True)\n",
    "        folium.CircleMarker(\n",
    "            [row[\"lat\"], row[\"lng\"]],\n",
    "            radius=5,\n",
    "            popup=label,\n",
    "            color='red',\n",
    "            fill=True,\n",
    "            fill_color='#3186cc',\n",
    "            fill_opacity=0.7,\n",
    "            parse_html=False).add_to(map_Thessaloniki)\n",
    "\n",
    "add_markers(df)\n",
    "hm_data = df[[\"lat\", \"lng\"]].to_numpy().tolist()\n",
    "map_Thessaloniki.add_child(plugins.HeatMap(hm_data))\n",
    "\n",
    "map_Thessaloniki"
   ]
  },
  {
   "cell_type": "markdown",
   "metadata": {},
   "source": [
    "Above is our beautiful town Thessaloniki with little red dots presenting different items. By spotting the clusters of items we can see which neighborhood has density of coffee business."
   ]
  },
  {
   "cell_type": "markdown",
   "metadata": {},
   "source": [
    "## 3. Conclusion\n",
    "\n",
    "We will need a location where we can catch out customers from \"hot\" location we have picked up from the map and stay in a certain distance so as to lessen the competivity of business."
   ]
  },
  {
   "cell_type": "code",
   "execution_count": 35,
   "metadata": {},
   "outputs": [
    {
     "data": {
      "text/html": [
       "<div style=\"width:100%;\"><div style=\"position:relative;width:100%;height:0;padding-bottom:60%;\"><span style=\"color:#565656\">Make this Notebook Trusted to load map: File -> Trust Notebook</span><iframe src=\"about:blank\" style=\"position:absolute;width:100%;height:100%;left:0;top:0;border:none !important;\" data-html=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 onload=\"this.contentDocument.open();this.contentDocument.write(atob(this.getAttribute('data-html')));this.contentDocument.close();\" allowfullscreen webkitallowfullscreen mozallowfullscreen></iframe></div></div>"
      ],
      "text/plain": [
       "<folium.folium.Map at 0x7f0a257336a0>"
      ]
     },
     "execution_count": 35,
     "metadata": {},
     "output_type": "execute_result"
    }
   ],
   "source": [
    "lat = 40.64361\n",
    "lng = 22.93086\n",
    "map_Thessaloniki = folium.Map(location=[lat, lng], zoom_start=17)\n",
    "add_markers(df)\n",
    "folium.CircleMarker(\n",
    "    [lat, lng],\n",
    "    radius=15,\n",
    "    popup=\"Oriste!\",\n",
    "    color='green',\n",
    "    fill=True,\n",
    "    fill_color='#3186cc',\n",
    "    fill_opacity=0.7,\n",
    "    parse_html=False).add_to(map_Thessaloniki)\n",
    "map_Thessaloniki"
   ]
  },
  {
   "cell_type": "markdown",
   "metadata": {},
   "source": [
    "Look at the blue buble, here we find out that it will locate in the Train Station. As I know this neighborhood is safe and right at the center, and on the passing-by path of students and workers everyday."
   ]
  }
 ],
 "metadata": {
  "kernelspec": {
   "display_name": "Python",
   "language": "python",
   "name": "conda-env-python-py"
  },
  "language_info": {
   "codemirror_mode": {
    "name": "ipython",
    "version": 3
   },
   "file_extension": ".py",
   "mimetype": "text/x-python",
   "name": "python",
   "nbconvert_exporter": "python",
   "pygments_lexer": "ipython3",
   "version": "3.6.11"
  }
 },
 "nbformat": 4,
 "nbformat_minor": 4
}
